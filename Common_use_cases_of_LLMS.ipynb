{
  "nbformat": 4,
  "nbformat_minor": 0,
  "metadata": {
    "colab": {
      "provenance": []
    },
    "kernelspec": {
      "name": "python3",
      "display_name": "Python 3"
    },
    "language_info": {
      "name": "python"
    }
  },
  "cells": [
    {
      "cell_type": "code",
      "execution_count": 4,
      "metadata": {
        "id": "3QADdZ2mPpUo"
      },
      "outputs": [],
      "source": [
        "# !pip install openai"
      ]
    },
    {
      "cell_type": "code",
      "source": [
        "import openai\n",
        "import os\n",
        "\n",
        "# set the openai api key\n",
        "OPENAI_API_KEY = ''\n",
        "os.environ[\"OPENAI_API_KEY\"] = OPENAI_API_KEY"
      ],
      "metadata": {
        "id": "axKUS8inP45D"
      },
      "execution_count": 17,
      "outputs": []
    },
    {
      "cell_type": "code",
      "source": [
        "client = openai.OpenAI()\n",
        "\n",
        "def get_completion(prompt, model=\"gpt-3.5-turbo\"):\n",
        "    messages = [{\"role\": \"user\", \"content\": prompt}]\n",
        "    response = client.chat.completions.create(\n",
        "        model=model,\n",
        "        messages=messages,\n",
        "        temperature=0\n",
        "    )\n",
        "    return response.choices[0].message.content"
      ],
      "metadata": {
        "id": "7msM4BeBQKIx"
      },
      "execution_count": 18,
      "outputs": []
    },
    {
      "cell_type": "markdown",
      "source": [
        "## Summarizing"
      ],
      "metadata": {
        "id": "FsPsa9YBTDN7"
      }
    },
    {
      "cell_type": "code",
      "source": [
        "product_review = \"\"\"\n",
        "As a long-time collector of action figures, I was thrilled to add the \"Galactic \\\n",
        "Warrior X-2000\" to my collection. Right off the bat, the craftsmanship impressed \\\n",
        "me. The intricate details on the armor and the lifelike articulation of the \\\n",
        "joints allow for dynamic posing and display. The paint job is top-notch, with \\\n",
        "vibrant colors that capture the essence of a true space adventurer. It even \\\n",
        "comes with several accessories, including a laser sword and a mini rocket \\\n",
        "backpack, which add to the play value. However, the pricing of this toy is a \\\n",
        "bit steep. At $50, it's certainly at the higher end of the spectrum for action \\\n",
        "figures, which might be a deterrent for casual buyers. While I understand the \\\n",
        "quality and the brand prestige add to the cost, I believe a price point around \\\n",
        "$35 would make it more accessible without compromising its perceived value. \\\n",
        "Despite this, I'm satisfied with the purchase. It's a fantastic addition to my \\\n",
        "collection and a standout piece that draws attention. For serious collectors, \\\n",
        "the price might be justifiable, but for parents or casual fans, it's worth \\\n",
        "weighing the cost against the level of interest in the genre or character.\n",
        "\"\"\""
      ],
      "metadata": {
        "id": "TgI7J5S1QO3c"
      },
      "execution_count": 19,
      "outputs": []
    },
    {
      "cell_type": "code",
      "source": [
        "summary_prompt = f\"\"\"\n",
        "Your task is to generate a short summary of a product review from an ecommerce site.\n",
        "\n",
        "Summarize the review below, delimited by triple\n",
        "backticks, in at most 30 words.\n",
        "\n",
        "Review: ```{product_review}```\n",
        "\"\"\"\n",
        "\n",
        "response = get_completion(summary_prompt)\n",
        "print(response)\n"
      ],
      "metadata": {
        "id": "UwQZBOJ9TZz_"
      },
      "execution_count": 21,
      "outputs": []
    },
    {
      "cell_type": "markdown",
      "source": [
        "#### Summarize with a focus on price"
      ],
      "metadata": {
        "id": "FJmIqpJfhBTD"
      }
    },
    {
      "cell_type": "code",
      "source": [
        "price_focused_summary_prompt = f\"\"\"\n",
        "Your task is to generate a short summary of a product \\\n",
        "review from an ecommerce site to give feedback to the \\\n",
        "pricing deparmtment, responsible for determining the \\\n",
        "price of the product.\n",
        "\n",
        "Summarize the review below, delimited by triple\n",
        "backticks, in at most 30 words, and focusing on any aspects \\\n",
        "that are relevant to the price and perceived value.\n",
        "\n",
        "Review: ```{product_review}```\n",
        "\"\"\"\n",
        "\n",
        "response = get_completion(price_focused_summary_prompt)\n",
        "print(response)"
      ],
      "metadata": {
        "id": "G_0Lxo2TUaw0"
      },
      "execution_count": null,
      "outputs": []
    },
    {
      "cell_type": "markdown",
      "source": [
        "### Sentiment Extraction"
      ],
      "metadata": {
        "id": "2INs8AFUhpCD"
      }
    },
    {
      "cell_type": "code",
      "source": [
        "sentiment_extraction_prompt = f\"\"\"\n",
        "What is the sentiment of the following product review,\n",
        "which is delimited with triple backticks?\n",
        "\n",
        "Give your answer as a single word, either \"positive\" \\\n",
        "or \"negative\".\n",
        "\n",
        "Review text: '''{product_review}'''\n",
        "\"\"\"\n",
        "response = get_completion(sentiment_extraction_prompt)\n",
        "print(response)"
      ],
      "metadata": {
        "id": "lYnR-gqahtVJ"
      },
      "execution_count": null,
      "outputs": []
    },
    {
      "cell_type": "markdown",
      "source": [
        "#### Identifying the emotions"
      ],
      "metadata": {
        "id": "Zpwcc7Heh1ha"
      }
    },
    {
      "cell_type": "code",
      "source": [
        "emotion_extraction_prompt = f\"\"\"\n",
        "Identify a list of emotions that the writer of the \\\n",
        "following review is expressing. Include no more than \\\n",
        "five items in the list. Format your answer as a list of \\\n",
        "lower-case words separated by commas.\n",
        "\n",
        "Review text: '''{product_review}'''\n",
        "\"\"\"\n",
        "response = get_completion(emotion_extraction_prompt)\n",
        "print(response)"
      ],
      "metadata": {
        "id": "EIlnhzNMh00B"
      },
      "execution_count": null,
      "outputs": []
    },
    {
      "cell_type": "markdown",
      "source": [
        "### Topic Extraction"
      ],
      "metadata": {
        "id": "lma7m5HoidR1"
      }
    },
    {
      "cell_type": "code",
      "source": [
        "product_description = \"\"\"\n",
        "Introducing our latest innovation, the EcoSmart Solar Backpack - the perfect \\\n",
        "solution for the environmentally conscious traveler. Crafted with high-quality,\\\n",
        "durable, and sustainable materials, this backpack is designed to withstand the\\\n",
        "rigors of daily use while minimizing its environmental impact. The standout \\\n",
        "feature of the EcoSmart Solar Backpack is its integrated solar panel, which \\\n",
        "efficiently harnesses solar energy to charge your devices on the go. Whether \\\n",
        "you're commuting to work or exploring the great outdoors, you'll have a \\\n",
        "reliable power source for your smartphone, tablet, or camera.\n",
        "\n",
        "Additionally, this backpack is ergonomically designed for maximum comfort. \\\n",
        "It features adjustable shoulder straps, a breathable back panel, and numerous \\\n",
        "compartments for organized storage. The water-resistant fabric ensures your \\\n",
        "belongings stay dry in any weather, making it an ideal choice for both urban \\\n",
        "and outdoor adventures.\n",
        "\n",
        "Moreover, the EcoSmart Solar Backpack is equipped with advanced security \\\n",
        "features like RFID-blocking pockets to protect your personal information from \\\n",
        "digital theft, and reflective elements for increased visibility during night \\\n",
        "travels. With its combination of functionality, eco-friendliness, and stylish \\\n",
        "design, the EcoSmart Solar Backpack is more than just a bag; it's a travel \\\n",
        "companion that aligns with your values and lifestyle.\n",
        "\"\"\""
      ],
      "metadata": {
        "id": "PKzeKHf7ifyG"
      },
      "execution_count": 22,
      "outputs": []
    },
    {
      "cell_type": "code",
      "source": [
        "topic_extraction_prompt = f\"\"\"\n",
        "Determine five topics that are being discussed in the \\\n",
        "following text, which is delimited by triple backticks.\n",
        "\n",
        "Make each item one or two words long.\n",
        "\n",
        "Format your response as a list of items separated by commas.\n",
        "\n",
        "Text sample: '''{product_description}'''\n",
        "\"\"\"\n",
        "response = get_completion(topic_extraction_prompt)\n",
        "print(response)"
      ],
      "metadata": {
        "id": "IA6YcsBHi6nj"
      },
      "execution_count": null,
      "outputs": []
    },
    {
      "cell_type": "markdown",
      "source": [
        "### Translation"
      ],
      "metadata": {
        "id": "kgkgv08FkGAU"
      }
    },
    {
      "cell_type": "code",
      "source": [
        "translation_prompt = f\"\"\"\n",
        "Translate the following English text to French: \\\n",
        "```Hi, I would like to order a chair```\n",
        "\"\"\"\n",
        "response = get_completion(translation_prompt)\n",
        "print(response)"
      ],
      "metadata": {
        "id": "rE6A3SRukFZz"
      },
      "execution_count": null,
      "outputs": []
    },
    {
      "cell_type": "code",
      "source": [
        "language_detection_prompt = f\"\"\"\n",
        "Tell me which language this is:\n",
        "```Combien coûte le lampadaire?```\n",
        "\"\"\"\n",
        "response = get_completion(language_detection_prompt)\n",
        "print(response)"
      ],
      "metadata": {
        "id": "ntTp5S-DkT6V"
      },
      "execution_count": null,
      "outputs": []
    },
    {
      "cell_type": "code",
      "source": [
        "translation_prompt = f\"\"\"\n",
        "Translate the following text to Spanish in both the \\\n",
        "formal and informal forms:\n",
        "'Would you like to order a pillow?'\n",
        "\"\"\"\n",
        "response = get_completion(translation_prompt)\n",
        "print(response)"
      ],
      "metadata": {
        "id": "BnlVVe1ZkYTM"
      },
      "execution_count": null,
      "outputs": []
    },
    {
      "cell_type": "markdown",
      "source": [
        "#### Tone Transformation"
      ],
      "metadata": {
        "id": "MnnJOKgNkpiq"
      }
    },
    {
      "cell_type": "code",
      "source": [
        "tone_transformation_prompt = f\"\"\"\n",
        "Translate the following from slang to a business letter:\n",
        "'Dude, This is John, check out this spec on this Blender.'\n",
        "\"\"\"\n",
        "response = get_completion(prompt)\n",
        "print(response)"
      ],
      "metadata": {
        "id": "-zvGdlNekttU"
      },
      "execution_count": null,
      "outputs": []
    },
    {
      "cell_type": "markdown",
      "source": [
        "#### Format Conversion"
      ],
      "metadata": {
        "id": "IMQgSCVtk9Mx"
      }
    },
    {
      "cell_type": "code",
      "source": [
        "data_json = { \"resturant employees\" :[\n",
        "    {\"name\":\"John\", \"email\":\"John33@gmail.com\"},\n",
        "    {\"name\":\"Alex\", \"email\":\"alex32@gmail.com\"},\n",
        "    {\"name\":\"Bob\", \"email\":\"Bob87@gmail.com\"}\n",
        "]}\n",
        "\n",
        "json_to_html_conversion_prompt = f\"\"\"\n",
        "Translate the following python dictionary from JSON to an HTML \\\n",
        "table with column headers and title: {data_json}\n",
        "\"\"\"\n",
        "response = get_completion(json_to_html_conversion_prompt)\n",
        "print(response)"
      ],
      "metadata": {
        "id": "KmxC-3DBlBhG"
      },
      "execution_count": null,
      "outputs": []
    },
    {
      "cell_type": "markdown",
      "source": [
        "#### Spellcheck/Grammar check."
      ],
      "metadata": {
        "id": "Upz1hVZilWML"
      }
    },
    {
      "cell_type": "code",
      "source": [
        "text = [\n",
        "  \"The girl with the black and white puppies have a ball.\",\n",
        "  \"Yolanda has her notebook.\",\n",
        "  \"Its going to be a long day. Does the car need it’s oil changed?\",\n",
        "  \"Their goes my freedom. There going to bring they’re suitcases.\",\n",
        "  \"Your going to need you’re notebook.\",\n",
        "  \"That medicine effects my ability to sleep. Have you heard of the butterfly affect?\",\n",
        "  \"This phrase is to cherck chatGPT for speling abilitty\"\n",
        "]\n",
        "for t in text:\n",
        "    spellcheck_prompt = f\"\"\"Proofread and correct the following text\n",
        "    and rewrite the corrected version. If you don't find\n",
        "    and errors, just say \"No errors found\". Don't use\n",
        "    any punctuation around the text:\n",
        "    ```{t}```\"\"\"\n",
        "    response = get_completion(spellcheck_prompt)\n",
        "    print(response)"
      ],
      "metadata": {
        "id": "p4dJ3FKClXvl"
      },
      "execution_count": null,
      "outputs": []
    },
    {
      "cell_type": "markdown",
      "source": [
        "### Email responses to reviews"
      ],
      "metadata": {
        "id": "oydEIlACmDXb"
      }
    },
    {
      "cell_type": "code",
      "source": [
        "product_review_email = \"\"\"\n",
        "I am writing to express my dissatisfaction with the EcoSmart Solar Backpack I \\\n",
        "recently purchased from your online store. As an avid supporter of environmentally\\\n",
        "friendly products, I was initially thrilled with the concept of your solar-powered \\\n",
        "backpack. Unfortunately, my experience with the product has been far from satisfactory\\\n",
        "Upon receiving the backpack, I noticed that the solar panel was not charging my \\\n",
        "devices as efficiently as advertised. Despite being exposed to ample sunlight \\\n",
        "during my daily commutes, the power output was minimal and inconsistent. This \\\n",
        "has caused significant inconvenience, as one of the primary reasons for my \\\n",
        "purchase was the on-the-go charging feature.Additionally, the quality of the \\\n",
        "backpack's material seems subpar. After just a few weeks of use, there is \\\n",
        "noticeable wear and tear, particularly around the zippers and shoulder straps. \\\n",
        "This was unexpected, especially given the product's description promising \\\n",
        "durability and the premium price point.I had high expectations for this product,\\\n",
        "not only because of its innovative features but also due to the reputation of your brand\n",
        "\"\"\""
      ],
      "metadata": {
        "id": "M2_jSW3LmK5Q"
      },
      "execution_count": 23,
      "outputs": []
    },
    {
      "cell_type": "code",
      "source": [
        "sentiment = \"negative\" # this will be extracted using LLMs\n",
        "\n",
        "email_response_prompt = f\"\"\"\n",
        "You are a customer service AI assistant.\n",
        "Your task is to send an email reply to a valued customer.\n",
        "Given the customer email delimited by ```, \\\n",
        "Generate a reply to thank the customer for their review.\n",
        "If the sentiment is positive or neutral, thank them for \\\n",
        "their review.\n",
        "If the sentiment is negative, apologize and suggest that \\\n",
        "they can reach out to customer service.\n",
        "Make sure to use specific details from the review.\n",
        "Write in a concise and professional tone.\n",
        "Sign the email as `AI customer agent`.\n",
        "Customer review: ```{product_review_email}```\n",
        "Review sentiment: {sentiment}\n",
        "\"\"\"\n",
        "response = get_completion(email_response_prompt)\n",
        "print(response)"
      ],
      "metadata": {
        "id": "VG9Kq0pGnalT"
      },
      "execution_count": null,
      "outputs": []
    }
  ]
}